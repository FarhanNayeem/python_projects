{
 "cells": [
  {
   "cell_type": "markdown",
   "metadata": {},
   "source": [
    "# Hi!\n",
    "\n",
    "### This is a small beginner project on betting games. I've made 3 functions that use the random integer functions and boolean expressions to produce different outputs every time the codes are run.\n",
    "\n",
    "\n",
    "\n"
   ]
  },
  {
   "cell_type": "markdown",
   "metadata": {},
   "source": [
    "Here, the amount of money to be used for betting is defined below:"
   ]
  },
  {
   "cell_type": "code",
   "execution_count": 12,
   "metadata": {},
   "outputs": [],
   "source": [
    "# %load games.py\n",
    "import random\n",
    "\n",
    "money = 100\n",
    "\n"
   ]
  },
  {
   "cell_type": "markdown",
   "metadata": {},
   "source": [
    "The first game involves flipping a coin. Whoever makes the correct call wins the bet!"
   ]
  },
  {
   "cell_type": "code",
   "execution_count": 13,
   "metadata": {},
   "outputs": [],
   "source": [
    "# Coin Flip\n",
    "def coin_flip(wager, call):\n",
    "  if wager <= 0:\n",
    "    print(\"Wager should be above 0\")\n",
    "    return 0\n",
    "  \n",
    "  num = random.randint(1, 2)\n",
    "  if num == 1:\n",
    "    print(\"It's Heads!\")\n",
    "  elif num == 2:\n",
    "    print(\"It's Tails!\")\n",
    "  if (call == \"Heads\" and num == 1) or (call == \"Tails\" and num == 2):\n",
    "    print(\"Won \" + str(wager))\n",
    "    return wager\n",
    "  else:\n",
    "    print(\"Lost \" + str(wager))\n",
    "    return -wager\n",
    "\n",
    "\n",
    "\n"
   ]
  },
  {
   "cell_type": "markdown",
   "metadata": {},
   "source": [
    "Next, is a Chinese game called Cho-Han. It involves an even number of players, (in this case two) who bet on the sum of the results of two rolled dice to be even or odd."
   ]
  },
  {
   "cell_type": "code",
   "execution_count": 14,
   "metadata": {},
   "outputs": [],
   "source": [
    "# Cho-Han \n",
    "def cho_han(bet, call):\n",
    "  if bet <= 0:\n",
    "    print(\"Bet should be higher than 0\")\n",
    "    return 0\n",
    "\n",
    "  dice1 = random.randint(1, 6)\n",
    "  dice2 = random.randint(1, 6)\n",
    "  result = dice1 + dice2\n",
    "  print(\"Sum of two dice is \" + str(result))\n",
    "  \n",
    "  if (result%2 == 0 and call == \"Even\") or (result%2 != 0 and call == \"Odd\"):\n",
    "    print(\"Won \" + str(bet))\n",
    "    return bet\n",
    "  else:\n",
    "    print(\"Lost \" + str(bet))\n",
    "    return -bet\n",
    "\n"
   ]
  },
  {
   "cell_type": "markdown",
   "metadata": {},
   "source": [
    "The last game involves two people choosing a card from 1 to 10 without seeing it. The player that picks the higher card wins the bet. There may be a tie, and a tie results in no loss or gain for either player."
   ]
  },
  {
   "cell_type": "code",
   "execution_count": 15,
   "metadata": {},
   "outputs": [],
   "source": [
    "# Higher Card\n",
    "def higher_card(bet):\n",
    "  if bet <= 0:\n",
    "    print(\"Bet should be above 0\")\n",
    "    return 0\n",
    "  \n",
    "  my_card = random.randint(1, 10)\n",
    "  opponent_card = random.randint(1, 10)\n",
    "  print(\"My card is \" + str(my_card))\n",
    "  print(\"Your card is \" + str(opponent_card))\n",
    "\n",
    "  \n",
    "  if my_card > opponent_card:\n",
    "    print(\"I won \" + str(bet))\n",
    "    return bet\n",
    "  elif my_card < opponent_card:\n",
    "    print(\"I lost \" + str(bet))\n",
    "    return -bet\n",
    "  elif my_card == opponent_card:\n",
    "    print(\"It's a tie!\")\n",
    "    return 0 \n"
   ]
  },
  {
   "cell_type": "markdown",
   "metadata": {},
   "source": [
    "We can run all the code together to determine the total money remaining after participating in the 3 games. Here, we are adding each funtion to the initial money in hand using \"+=\". To change betting parameters, simply edit the functions below:"
   ]
  },
  {
   "cell_type": "code",
   "execution_count": 25,
   "metadata": {},
   "outputs": [
    {
     "name": "stdout",
     "output_type": "stream",
     "text": [
      "It's Tails!\n",
      "Won 10\n",
      "Sum of two dice is 6\n",
      "Won 10\n",
      "My card is 4\n",
      "Your card is 9\n",
      "I lost 15\n",
      "Your total amount of money is 135\n"
     ]
    }
   ],
   "source": [
    "money += coin_flip(10, \"Tails\")\n",
    "\n",
    "money += cho_han(10, \"Even\")\n",
    "\n",
    "money += higher_card(15)\n",
    "\n",
    "print(\"Your total amount of money is \" + str(money))\n"
   ]
  },
  {
   "cell_type": "code",
   "execution_count": null,
   "metadata": {},
   "outputs": [],
   "source": []
  }
 ],
 "metadata": {
  "kernelspec": {
   "display_name": "Python 3",
   "language": "python",
   "name": "python3"
  },
  "language_info": {
   "codemirror_mode": {
    "name": "ipython",
    "version": 3
   },
   "file_extension": ".py",
   "mimetype": "text/x-python",
   "name": "python",
   "nbconvert_exporter": "python",
   "pygments_lexer": "ipython3",
   "version": "3.7.6"
  }
 },
 "nbformat": 4,
 "nbformat_minor": 4
}
